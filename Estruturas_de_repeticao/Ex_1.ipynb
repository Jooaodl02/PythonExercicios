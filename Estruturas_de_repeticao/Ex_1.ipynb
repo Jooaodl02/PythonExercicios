{
 "cells": [
  {
   "cell_type": "code",
   "execution_count": 1,
   "id": "c718b79a",
   "metadata": {},
   "outputs": [
    {
     "name": "stdout",
     "output_type": "stream",
     "text": [
      "Digite o 1º numero: 14\n",
      "Digite o valor do 1º numero: 13\n",
      "Digite o valor do 2º numero: 5\n",
      "Digite o valor do 3º numero: 2\n",
      "Digite o valor do 4º numero: 4\n",
      "Digite o valor do 5º numero: 6\n",
      "Digite o valor do 6º numero: 8\n",
      "Digite o valor do 7º numero: 4694984\n",
      "Digite o valor do 8º numero: 1\n",
      "Digite o valor do 9º numero: 23\n",
      "4694984.0, 1.0\n"
     ]
    }
   ],
   "source": [
    "#EXERICIO 8 - CERTO\n",
    "\n",
    "num = float(input('Digite o 1º numero: '))\n",
    "\n",
    "guarda_maior = num\n",
    "guarda_menor = num\n",
    "\n",
    "for n in range(1, 10):\n",
    "    num = float(input(f'Digite o valor do {n}º numero: '))\n",
    "\n",
    "    if num > guarda_maior:\n",
    "        guarda_maior  = num\n",
    "\n",
    "    elif num < guarda_menor:\n",
    "        guarda_menor = num\n",
    "\n",
    "print(f'{guarda_maior}, {guarda_menor}')"
   ]
  },
  {
   "cell_type": "code",
   "execution_count": null,
   "id": "ef26a4db",
   "metadata": {},
   "outputs": [],
   "source": []
  }
 ],
 "metadata": {
  "kernelspec": {
   "display_name": "Python 3 (ipykernel)",
   "language": "python",
   "name": "python3"
  },
  "language_info": {
   "codemirror_mode": {
    "name": "ipython",
    "version": 3
   },
   "file_extension": ".py",
   "mimetype": "text/x-python",
   "name": "python",
   "nbconvert_exporter": "python",
   "pygments_lexer": "ipython3",
   "version": "3.9.12"
  }
 },
 "nbformat": 4,
 "nbformat_minor": 5
}
