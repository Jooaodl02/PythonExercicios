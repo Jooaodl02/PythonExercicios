{
 "cells": [
  {
   "cell_type": "code",
   "execution_count": 3,
   "id": "9c802c04",
   "metadata": {},
   "outputs": [
    {
     "name": "stdout",
     "output_type": "stream",
     "text": [
      "Insira a idade: 70\n",
      "Insira a idade: 90\n",
      "Insira a idade: 110\n",
      "Insira a idade: 0\n",
      "90.0\n"
     ]
    }
   ],
   "source": [
    "# Exercicio 43\n",
    "# Insira a idade de um grupo até ser digitado a \"idade\" 0.\n",
    "# Ao ser digitado, o programa deve retornar a media das idades anteriores\n",
    "\n",
    "\n",
    "soma = 0\n",
    "quant = 0\n",
    "idade = 1\n",
    "\n",
    "while idade > 0:\n",
    "    idade = int(input(\"Insira a idade: \"))\n",
    "    if idade > 0:\n",
    "        soma = soma + idade\n",
    "        quant = quant + 1\n",
    "\n",
    "media = soma / quant\n",
    "\n",
    "print (media)\n"
   ]
  },
  {
   "cell_type": "code",
   "execution_count": null,
   "id": "66583c20",
   "metadata": {},
   "outputs": [],
   "source": []
  }
 ],
 "metadata": {
  "kernelspec": {
   "display_name": "Python 3 (ipykernel)",
   "language": "python",
   "name": "python3"
  },
  "language_info": {
   "codemirror_mode": {
    "name": "ipython",
    "version": 3
   },
   "file_extension": ".py",
   "mimetype": "text/x-python",
   "name": "python",
   "nbconvert_exporter": "python",
   "pygments_lexer": "ipython3",
   "version": "3.9.12"
  }
 },
 "nbformat": 4,
 "nbformat_minor": 5
}
