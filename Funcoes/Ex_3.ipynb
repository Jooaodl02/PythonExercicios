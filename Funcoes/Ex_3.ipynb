{
 "cells": [
  {
   "cell_type": "code",
   "execution_count": 1,
   "id": "03aef401",
   "metadata": {},
   "outputs": [
    {
     "name": "stdout",
     "output_type": "stream",
     "text": [
      "informe o menor numero: 9\n",
      "informe o maior numero: 14\n",
      "46\n"
     ]
    }
   ],
   "source": [
    "##EXERCICIO 17\n",
    "\n",
    "n1 = int(input(\"informe o menor numero: \"))\n",
    "n2= int(input(\"informe o maior numero: \"))\n",
    "\n",
    "def soma_entre(n1, n2):\n",
    "    \n",
    "    lista = []\n",
    "    x = n2 - n1\n",
    "    for i in range(x - 1):\n",
    "        n2 = n2 - 1\n",
    "        lista.append(n2)\n",
    "    return sum(lista)\n",
    "\n",
    "print(soma_entre(n1, n2))"
   ]
  },
  {
   "cell_type": "code",
   "execution_count": null,
   "id": "747c470e",
   "metadata": {},
   "outputs": [],
   "source": []
  }
 ],
 "metadata": {
  "kernelspec": {
   "display_name": "Python 3 (ipykernel)",
   "language": "python",
   "name": "python3"
  },
  "language_info": {
   "codemirror_mode": {
    "name": "ipython",
    "version": 3
   },
   "file_extension": ".py",
   "mimetype": "text/x-python",
   "name": "python",
   "nbconvert_exporter": "python",
   "pygments_lexer": "ipython3",
   "version": "3.9.12"
  }
 },
 "nbformat": 4,
 "nbformat_minor": 5
}
