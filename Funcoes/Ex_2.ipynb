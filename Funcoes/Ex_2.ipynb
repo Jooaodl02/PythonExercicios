{
 "cells": [
  {
   "cell_type": "code",
   "execution_count": 17,
   "id": "7b0139b7",
   "metadata": {},
   "outputs": [
    {
     "name": "stdout",
     "output_type": "stream",
     "text": [
      "Informe as horas: 11\n",
      "Informe os minutos: 11\n",
      "Informe os segundos: 11\n",
      " O horario total em segundos é, 40271.0\n"
     ]
    }
   ],
   "source": [
    "#EXERCICIO 6\n",
    "\n",
    "h = float(input(\"Informe as horas: \"))\n",
    "m = float(input(\"Informe os minutos: \"))\n",
    "s = float(input(\"Informe os segundos: \"))\n",
    "\n",
    "def horario(h, m, s):\n",
    "    s1 = h*3600\n",
    "    s2 = m*60\n",
    "    return print(f\" O horario total em segundos é, {s + s1 + s2}\" )\n",
    "\n",
    "horario(h, m, s)"
   ]
  }
 ],
 "metadata": {
  "kernelspec": {
   "display_name": "Python 3 (ipykernel)",
   "language": "python",
   "name": "python3"
  },
  "language_info": {
   "codemirror_mode": {
    "name": "ipython",
    "version": 3
   },
   "file_extension": ".py",
   "mimetype": "text/x-python",
   "name": "python",
   "nbconvert_exporter": "python",
   "pygments_lexer": "ipython3",
   "version": "3.9.12"
  }
 },
 "nbformat": 4,
 "nbformat_minor": 5
}
