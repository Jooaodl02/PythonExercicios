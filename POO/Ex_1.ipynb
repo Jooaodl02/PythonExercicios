{
 "cells": [
  {
   "cell_type": "code",
   "execution_count": 4,
   "id": "7d4b11cb",
   "metadata": {},
   "outputs": [
    {
     "name": "stdout",
     "output_type": "stream",
     "text": [
      " O nome da pessoa é João\n",
      " A pessoa tem 185 centimetros de altura\n",
      " A pessoa tem 20 anos\n",
      " O nome da pessoa é Maria\n",
      " A pessoa tem 168 centimetros de altura\n",
      " A pessoa tem 19 anos\n",
      " O nome da pessoa é Clébio\n",
      " A pessoa tem 178 centimetros de altura\n",
      " A pessoa tem 25 anos\n"
     ]
    }
   ],
   "source": [
    "\n",
    "#Exericio 1 - POO - dados e consulta de dados\n",
    "\n",
    "class pessoa:\n",
    "    \n",
    "    def __init__ (self, nome, idade, altura):\n",
    "        self.__idade = idade\n",
    "        self.__altura = altura\n",
    "        self.__nome = nome\n",
    "   \n",
    "    def mostrar_dados(self):\n",
    "        print(f' O nome da pessoa é {self.__nome}')\n",
    "        print(f' A pessoa tem {self.__altura} centimetros de altura')\n",
    "        print(f' A pessoa tem {self.__idade} anos')\n",
    "    \n",
    "        \n",
    "p1 = pessoa(\"João\", 20, 185)\n",
    "p2 = pessoa(\"Maria\", 19, 168)\n",
    "p3 = pessoa(\"Clébio\", 25, 178)\n",
    "\n",
    "p1.mostrar_dados()\n",
    "p2.mostrar_dados()\n",
    "p3.mostrar_dados()\n"
   ]
  },
  {
   "cell_type": "code",
   "execution_count": null,
   "id": "c98e0ede",
   "metadata": {},
   "outputs": [],
   "source": []
  }
 ],
 "metadata": {
  "kernelspec": {
   "display_name": "Python 3 (ipykernel)",
   "language": "python",
   "name": "python3"
  },
  "language_info": {
   "codemirror_mode": {
    "name": "ipython",
    "version": 3
   },
   "file_extension": ".py",
   "mimetype": "text/x-python",
   "name": "python",
   "nbconvert_exporter": "python",
   "pygments_lexer": "ipython3",
   "version": "3.9.12"
  }
 },
 "nbformat": 4,
 "nbformat_minor": 5
}
