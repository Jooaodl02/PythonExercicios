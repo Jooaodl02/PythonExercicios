{
 "cells": [
  {
   "cell_type": "code",
   "execution_count": null,
   "id": "eb9f425c",
   "metadata": {},
   "outputs": [],
   "source": []
  },
  {
   "cell_type": "code",
   "execution_count": 29,
   "id": "0121f291",
   "metadata": {},
   "outputs": [
    {
     "name": "stdout",
     "output_type": "stream",
     "text": [
      "João\n",
      "20\n",
      "185\n",
      "3\n",
      "Maria\n",
      "19\n",
      "168\n",
      "3\n",
      "Maria\n",
      "19\n",
      "168\n",
      "3\n"
     ]
    }
   ],
   "source": [
    "#Exercicio 2 - agenda - NÃO CONCLUIDO\n",
    "\n",
    "class agenda:\n",
    "    \n",
    "    id = 0\n",
    "   \n",
    "    def __init__(self, nome, idade, altura):\n",
    "        contador = agenda.id + 1\n",
    "        self.__nome = nome\n",
    "        self.__idade = idade\n",
    "        self.__altura = altura\n",
    "        agenda.id = contador\n",
    "    \n",
    "    def mostra_pessoa(self):\n",
    "        print(self.__nome)\n",
    "        print(self.__idade)\n",
    "        print(self.__altura)\n",
    "        print(agenda.id)\n",
    "    \n",
    "    def remove_pessoa(self, nome):\n",
    "        del self.__nome\n",
    "        \n",
    "        \n",
    "p1 = agenda(\"João\", 20, 185)\n",
    "\n",
    "p2 = agenda(\"Maria\", 19, 168)\n",
    "\n",
    "p3 = agenda(\"Clébio\", 25, 178) \n",
    "\n",
    "p1.mostra_pessoa()\n",
    "p2.mostra_pessoa()\n",
    "\n",
    "p2.mostra_pessoa()\n"
   ]
  },
  {
   "cell_type": "code",
   "execution_count": null,
   "id": "92c4ccd4",
   "metadata": {},
   "outputs": [],
   "source": []
  },
  {
   "cell_type": "code",
   "execution_count": null,
   "id": "84be18fe",
   "metadata": {},
   "outputs": [],
   "source": []
  }
 ],
 "metadata": {
  "kernelspec": {
   "display_name": "Python 3 (ipykernel)",
   "language": "python",
   "name": "python3"
  },
  "language_info": {
   "codemirror_mode": {
    "name": "ipython",
    "version": 3
   },
   "file_extension": ".py",
   "mimetype": "text/x-python",
   "name": "python",
   "nbconvert_exporter": "python",
   "pygments_lexer": "ipython3",
   "version": "3.9.12"
  }
 },
 "nbformat": 4,
 "nbformat_minor": 5
}
