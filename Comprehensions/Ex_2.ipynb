{
 "cells": [
  {
   "cell_type": "code",
   "execution_count": 4,
   "id": "00871728",
   "metadata": {},
   "outputs": [
    {
     "name": "stdout",
     "output_type": "stream",
     "text": [
      "[[1, 2, 3], [1, 2, 3], [1, 2, 3]]\n",
      "[['O', 'X', 'O'], ['O', 'X', 'O'], ['O', 'X', 'O']]\n",
      "[['*', '*', '*'], ['*', '*', '*'], ['*', '*', '*']]\n"
     ]
    }
   ],
   "source": [
    "# Exercicio - Gerando um tabuleiro/matrix 3x3\n",
    "\n",
    "tabuleiro = [[numero for numero in range(1, 4)] for valor in range(1, 4)]\n",
    "print(tabuleiro)\n",
    "\n",
    "# Exercicio - Gerando jogadas para o jogo da velha\n",
    "velha = [['X' if numero % 2 == 0 else 'O' for numero in range(1, 4)] for valor in range(1, 4)]\n",
    "print(velha)\n",
    "\n",
    "# Exercicio - Gerando valor iniciais\n",
    "\n",
    "print([['*' for i in range(1, 4)] for j in range(1, 4)])"
   ]
  },
  {
   "cell_type": "code",
   "execution_count": null,
   "id": "f0f92549",
   "metadata": {},
   "outputs": [],
   "source": []
  }
 ],
 "metadata": {
  "kernelspec": {
   "display_name": "Python 3 (ipykernel)",
   "language": "python",
   "name": "python3"
  },
  "language_info": {
   "codemirror_mode": {
    "name": "ipython",
    "version": 3
   },
   "file_extension": ".py",
   "mimetype": "text/x-python",
   "name": "python",
   "nbconvert_exporter": "python",
   "pygments_lexer": "ipython3",
   "version": "3.9.12"
  }
 },
 "nbformat": 4,
 "nbformat_minor": 5
}
