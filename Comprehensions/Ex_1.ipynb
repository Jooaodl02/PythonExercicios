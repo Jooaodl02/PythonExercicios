{
 "cells": [
  {
   "cell_type": "code",
   "execution_count": 1,
   "id": "cdb32413",
   "metadata": {},
   "outputs": [
    {
     "name": "stdout",
     "output_type": "stream",
     "text": [
      "[2, 4, 6]\n",
      "[1, 3, 5]\n",
      "[1, 16, 81, 256, 625, 1296]\n",
      "[0, 2, 4, 6, 8, 10, 12, 14, 16, 18]\n"
     ]
    }
   ],
   "source": [
    "#Exercicios A, B e C\n",
    "\n",
    "\n",
    "num = [1, 2, 3, 4, 5, 6]\n",
    "\n",
    "print([numeros for numeros in num if numeros % 2 == 0]) #Retorna uma lista com valores pares da lista\n",
    "\n",
    "print([numeros for numeros in num if numeros % 2 != 0]) #Retorna uma lista com valores impares da lista\n",
    "\n",
    "\n",
    "\n",
    "print([numeros ** 4 for numeros in num]) #Eleva todos os numeros a quarta potencia\n",
    "\n",
    "\n",
    "\n",
    "print([valores * 2 for valores in range (0, 10)])# Retorno uma lista com todos os valores de 0 a 9 dobrados\n"
   ]
  },
  {
   "cell_type": "code",
   "execution_count": null,
   "id": "33c03261",
   "metadata": {},
   "outputs": [],
   "source": []
  }
 ],
 "metadata": {
  "kernelspec": {
   "display_name": "Python 3 (ipykernel)",
   "language": "python",
   "name": "python3"
  },
  "language_info": {
   "codemirror_mode": {
    "name": "ipython",
    "version": 3
   },
   "file_extension": ".py",
   "mimetype": "text/x-python",
   "name": "python",
   "nbconvert_exporter": "python",
   "pygments_lexer": "ipython3",
   "version": "3.9.12"
  }
 },
 "nbformat": 4,
 "nbformat_minor": 5
}
