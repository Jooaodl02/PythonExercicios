{
 "cells": [
  {
   "cell_type": "code",
   "execution_count": 1,
   "id": "a5e21461",
   "metadata": {},
   "outputs": [
    {
     "name": "stdout",
     "output_type": "stream",
     "text": [
      "[1, 2, 7, 7, 10, 12]\n"
     ]
    }
   ],
   "source": [
    "#EXERCICIO 30\n",
    "\n",
    "lista1 = [1, 2, 3, 4, 7, 10, 11, 12, 13, 14]\n",
    "lista2 = [1, 2, 7, 8, 9, 6, 7, 9, 10, 12, 18]\n",
    "\n",
    "novalista = []\n",
    "\n",
    "\n",
    "for k in range(0, 10):\n",
    "    for i in range(0, 10):\n",
    "        if lista1[k] == lista2[i]:\n",
    "            novalista.append(lista1[k])\n",
    "\n",
    "print(novalista)\n"
   ]
  },
  {
   "cell_type": "code",
   "execution_count": null,
   "id": "9ca35d96",
   "metadata": {},
   "outputs": [],
   "source": []
  }
 ],
 "metadata": {
  "kernelspec": {
   "display_name": "Python 3 (ipykernel)",
   "language": "python",
   "name": "python3"
  },
  "language_info": {
   "codemirror_mode": {
    "name": "ipython",
    "version": 3
   },
   "file_extension": ".py",
   "mimetype": "text/x-python",
   "name": "python",
   "nbconvert_exporter": "python",
   "pygments_lexer": "ipython3",
   "version": "3.9.12"
  }
 },
 "nbformat": 4,
 "nbformat_minor": 5
}
