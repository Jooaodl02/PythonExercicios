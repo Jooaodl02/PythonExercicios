{
 "cells": [
  {
   "cell_type": "code",
   "execution_count": 1,
   "id": "cff5125a",
   "metadata": {},
   "outputs": [
    {
     "name": "stdout",
     "output_type": "stream",
     "text": [
      "[0, 2, 2, 3, 4, 0, 7, 8, 0, 10]\n"
     ]
    }
   ],
   "source": [
    "#EXERCICIO 17\n",
    "\n",
    "lista = [-1, 2, 2, 3, 4, -4, 7, 8, -8, 10]\n",
    "\n",
    "for i in range(0, 10):\n",
    "    if (lista[i] < 0):\n",
    "        lista[i] = 0\n",
    "\n",
    "print(lista)"
   ]
  },
  {
   "cell_type": "code",
   "execution_count": null,
   "id": "9f9f77d2",
   "metadata": {},
   "outputs": [],
   "source": []
  }
 ],
 "metadata": {
  "kernelspec": {
   "display_name": "Python 3 (ipykernel)",
   "language": "python",
   "name": "python3"
  },
  "language_info": {
   "codemirror_mode": {
    "name": "ipython",
    "version": 3
   },
   "file_extension": ".py",
   "mimetype": "text/x-python",
   "name": "python",
   "nbconvert_exporter": "python",
   "pygments_lexer": "ipython3",
   "version": "3.9.12"
  }
 },
 "nbformat": 4,
 "nbformat_minor": 5
}
