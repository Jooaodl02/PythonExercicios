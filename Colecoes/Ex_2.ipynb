{
 "cells": [
  {
   "cell_type": "code",
   "execution_count": 1,
   "id": "ab133961",
   "metadata": {},
   "outputs": [
    {
     "name": "stdout",
     "output_type": "stream",
     "text": [
      "Insira um numero: 75\n",
      "Insira um numero: 15\n",
      "Insira um numero: 15\n",
      "Insira um numero: 52\n",
      "Insira um numero: 6\n",
      "Insira um numero: 45\n",
      "[45, 6, 52, 15, 15, 75]\n"
     ]
    }
   ],
   "source": [
    "#EXERCICIO 8\n",
    "\n",
    "numero = []\n",
    "\n",
    "for i in range(6):\n",
    "    numeros = int(input(\"Insira um numero: \"))\n",
    "    numero.append(numeros)\n",
    "numero.reverse()\n",
    "\n",
    "print(numero)\n"
   ]
  },
  {
   "cell_type": "code",
   "execution_count": null,
   "id": "a3946cf9",
   "metadata": {},
   "outputs": [],
   "source": []
  }
 ],
 "metadata": {
  "kernelspec": {
   "display_name": "Python 3 (ipykernel)",
   "language": "python",
   "name": "python3"
  },
  "language_info": {
   "codemirror_mode": {
    "name": "ipython",
    "version": 3
   },
   "file_extension": ".py",
   "mimetype": "text/x-python",
   "name": "python",
   "nbconvert_exporter": "python",
   "pygments_lexer": "ipython3",
   "version": "3.9.12"
  }
 },
 "nbformat": 4,
 "nbformat_minor": 5
}
