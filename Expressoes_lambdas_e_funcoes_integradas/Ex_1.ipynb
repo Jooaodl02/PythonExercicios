{
 "cells": [
  {
   "cell_type": "code",
   "execution_count": 1,
   "id": "00de38fd",
   "metadata": {},
   "outputs": [
    {
     "name": "stdout",
     "output_type": "stream",
     "text": [
      "Minha primeira função\n",
      "Insira o seu nome: joao\n",
      "Insira a sua idade: 15\n",
      "joao possui 15 anos\n"
     ]
    }
   ],
   "source": [
    "\n",
    "#Exercicio 1\n",
    "\n",
    "# A - Faça um programa que escreva “Minha primeira função”, \n",
    "# esta escrita deve ser realizada a partir da chamada de uma função que foi declarada como uma expressão lambda.\n",
    "\n",
    "primeira = lambda: print(\"Minha primeira função\")\n",
    "\n",
    "primeira()\n",
    "\n",
    "\n",
    "# B- Faça um programa que solicite o nome do usuário e a idade do usuário, \n",
    "# depois disso exiba a mensagem: “{nome} possui {idade} anos.”. Esta mensagem deve ser escrita em uma função lambda.\n",
    "\n",
    "nome = input(str(\"Insira o seu nome: \"))\n",
    "idade = input(str(\"Insira a sua idade: \"))\n",
    "\n",
    "info = lambda: print(f\"{nome} possui {idade} anos\")\n",
    "\n",
    "info()"
   ]
  },
  {
   "cell_type": "code",
   "execution_count": null,
   "id": "74698213",
   "metadata": {},
   "outputs": [],
   "source": []
  }
 ],
 "metadata": {
  "kernelspec": {
   "display_name": "Python 3 (ipykernel)",
   "language": "python",
   "name": "python3"
  },
  "language_info": {
   "codemirror_mode": {
    "name": "ipython",
    "version": 3
   },
   "file_extension": ".py",
   "mimetype": "text/x-python",
   "name": "python",
   "nbconvert_exporter": "python",
   "pygments_lexer": "ipython3",
   "version": "3.9.12"
  }
 },
 "nbformat": 4,
 "nbformat_minor": 5
}
