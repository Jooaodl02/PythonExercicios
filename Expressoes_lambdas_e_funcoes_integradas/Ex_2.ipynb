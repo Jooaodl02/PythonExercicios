{
 "cells": [
  {
   "cell_type": "code",
   "execution_count": 1,
   "id": "7de6cc8f",
   "metadata": {},
   "outputs": [
    {
     "name": "stdout",
     "output_type": "stream",
     "text": [
      "[2, 4, 42, 62, 10]\n"
     ]
    }
   ],
   "source": [
    "#Exercicio - filtrando os numeros pares - FILTER\n",
    "\n",
    "numeros = [1, 2, 3, 4, 5, 65, 42, 62, 63, 10]\n",
    "\n",
    "pares = filter(lambda x: x % 2 == 0, numeros)\n",
    "\n",
    "print(list(pares))\n"
   ]
  },
  {
   "cell_type": "code",
   "execution_count": null,
   "id": "2c77dab2",
   "metadata": {},
   "outputs": [],
   "source": []
  }
 ],
 "metadata": {
  "kernelspec": {
   "display_name": "Python 3 (ipykernel)",
   "language": "python",
   "name": "python3"
  },
  "language_info": {
   "codemirror_mode": {
    "name": "ipython",
    "version": 3
   },
   "file_extension": ".py",
   "mimetype": "text/x-python",
   "name": "python",
   "nbconvert_exporter": "python",
   "pygments_lexer": "ipython3",
   "version": "3.9.12"
  }
 },
 "nbformat": 4,
 "nbformat_minor": 5
}
