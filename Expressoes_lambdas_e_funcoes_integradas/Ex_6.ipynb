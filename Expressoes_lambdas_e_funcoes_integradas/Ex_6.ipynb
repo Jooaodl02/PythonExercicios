{
 "cells": [
  {
   "cell_type": "code",
   "execution_count": 1,
   "id": "91175234",
   "metadata": {},
   "outputs": [
    {
     "name": "stdout",
     "output_type": "stream",
     "text": [
      "['João', 'Luis']\n"
     ]
    }
   ],
   "source": [
    "#Exercicio - SELECIONA OS NUMEROS COM MENOS DE 6 LETRAS - FILTER\n",
    "\n",
    "dados = [\"Mariana\", \"João\", \"Juliana\", \"Richard\", \"Luis\"]\n",
    "\n",
    "filtra = filter(lambda dado: len(dado) < 6, dados)\n",
    "\n",
    "print(list(filtra))\n"
   ]
  },
  {
   "cell_type": "code",
   "execution_count": null,
   "id": "7502f33a",
   "metadata": {},
   "outputs": [],
   "source": []
  }
 ],
 "metadata": {
  "kernelspec": {
   "display_name": "Python 3 (ipykernel)",
   "language": "python",
   "name": "python3"
  },
  "language_info": {
   "codemirror_mode": {
    "name": "ipython",
    "version": 3
   },
   "file_extension": ".py",
   "mimetype": "text/x-python",
   "name": "python",
   "nbconvert_exporter": "python",
   "pygments_lexer": "ipython3",
   "version": "3.9.12"
  }
 },
 "nbformat": 4,
 "nbformat_minor": 5
}
