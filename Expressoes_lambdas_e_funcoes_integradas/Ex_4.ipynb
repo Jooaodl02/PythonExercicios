{
 "cells": [
  {
   "cell_type": "code",
   "execution_count": 1,
   "id": "8b83cc4e",
   "metadata": {},
   "outputs": [
    {
     "name": "stdout",
     "output_type": "stream",
     "text": [
      "[('João', 40), ('Mariana', 38), ('Roberto', 68), ('Charles', 144)]\n"
     ]
    }
   ],
   "source": [
    "#Exericio - DOBRA O NUMERO DE CADA PESSOA - MAP\n",
    "\n",
    "dados = [('João', 20), ('Mariana', 19), ('Roberto', 34), ('Charles', 72)]\n",
    "\n",
    "num = lambda dado: (dado[0], dado[1] * 2)\n",
    "\n",
    "print (list(map(num, dados)))"
   ]
  },
  {
   "cell_type": "code",
   "execution_count": null,
   "id": "d5291286",
   "metadata": {},
   "outputs": [],
   "source": []
  }
 ],
 "metadata": {
  "kernelspec": {
   "display_name": "Python 3 (ipykernel)",
   "language": "python",
   "name": "python3"
  },
  "language_info": {
   "codemirror_mode": {
    "name": "ipython",
    "version": 3
   },
   "file_extension": ".py",
   "mimetype": "text/x-python",
   "name": "python",
   "nbconvert_exporter": "python",
   "pygments_lexer": "ipython3",
   "version": "3.9.12"
  }
 },
 "nbformat": 4,
 "nbformat_minor": 5
}
