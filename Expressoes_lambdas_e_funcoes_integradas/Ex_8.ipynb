{
 "cells": [
  {
   "cell_type": "code",
   "execution_count": 1,
   "id": "37f44162",
   "metadata": {},
   "outputs": [
    {
     "name": "stdout",
     "output_type": "stream",
     "text": [
      "True\n",
      "False\n"
     ]
    }
   ],
   "source": [
    "#Exercicio - Any e All\n",
    "\n",
    "nomes = [\"Carlos\", \"Cabrinha\", \"Jp\", \"Coreia\"]\n",
    "\n",
    "print(any(nome[0] == 'C' for nome in nomes))\n",
    "\n",
    "print(all(nome[0] == 'C' for nome in nomes))\n"
   ]
  }
 ],
 "metadata": {
  "kernelspec": {
   "display_name": "Python 3 (ipykernel)",
   "language": "python",
   "name": "python3"
  },
  "language_info": {
   "codemirror_mode": {
    "name": "ipython",
    "version": 3
   },
   "file_extension": ".py",
   "mimetype": "text/x-python",
   "name": "python",
   "nbconvert_exporter": "python",
   "pygments_lexer": "ipython3",
   "version": "3.9.12"
  }
 },
 "nbformat": 4,
 "nbformat_minor": 5
}
