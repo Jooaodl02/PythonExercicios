{
 "cells": [
  {
   "cell_type": "code",
   "execution_count": 1,
   "id": "e312679e",
   "metadata": {},
   "outputs": [
    {
     "name": "stdout",
     "output_type": "stream",
     "text": [
      "[('João', 20), ('Mariana', 19), ('Roberto', 34), ('Charles', 72)]\n"
     ]
    }
   ],
   "source": [
    "#Exercicio - COLOCA EM MAISCULO O NOME - MAP\n",
    "\n",
    "dados = [('joão', 20), ('mariana', 19), ('roberto', 34), ('charles', 72)]\n",
    "\n",
    "muda = lambda dado: (dado[0].title(), dado[1])\n",
    "\n",
    "print(list(map(muda, dados)))"
   ]
  },
  {
   "cell_type": "code",
   "execution_count": null,
   "id": "cc6da4fe",
   "metadata": {},
   "outputs": [],
   "source": []
  }
 ],
 "metadata": {
  "kernelspec": {
   "display_name": "Python 3 (ipykernel)",
   "language": "python",
   "name": "python3"
  },
  "language_info": {
   "codemirror_mode": {
    "name": "ipython",
    "version": 3
   },
   "file_extension": ".py",
   "mimetype": "text/x-python",
   "name": "python",
   "nbconvert_exporter": "python",
   "pygments_lexer": "ipython3",
   "version": "3.9.12"
  }
 },
 "nbformat": 4,
 "nbformat_minor": 5
}
