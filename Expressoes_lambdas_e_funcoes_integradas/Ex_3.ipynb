{
 "cells": [
  {
   "cell_type": "code",
   "execution_count": 1,
   "id": "5932f5f9",
   "metadata": {},
   "outputs": [
    {
     "name": "stdout",
     "output_type": "stream",
     "text": [
      "[23, 24, 25, 26, 27, 87, 64, 84, 85, 32]\n"
     ]
    }
   ],
   "source": [
    "#Exericio - ADCIONAR  22 PARA TODOS OS NUMEROS DA LISTA - MAP\n",
    "\n",
    "numeros = [1, 2, 3, 4, 5, 65, 42, 62, 63, 10]\n",
    "\n",
    "num = map(lambda x: x+22, numeros)\n",
    "\n",
    "print(list(num))\n"
   ]
  },
  {
   "cell_type": "code",
   "execution_count": null,
   "id": "05d9ee8d",
   "metadata": {},
   "outputs": [],
   "source": []
  }
 ],
 "metadata": {
  "kernelspec": {
   "display_name": "Python 3 (ipykernel)",
   "language": "python",
   "name": "python3"
  },
  "language_info": {
   "codemirror_mode": {
    "name": "ipython",
    "version": 3
   },
   "file_extension": ".py",
   "mimetype": "text/x-python",
   "name": "python",
   "nbconvert_exporter": "python",
   "pygments_lexer": "ipython3",
   "version": "3.9.12"
  }
 },
 "nbformat": 4,
 "nbformat_minor": 5
}
