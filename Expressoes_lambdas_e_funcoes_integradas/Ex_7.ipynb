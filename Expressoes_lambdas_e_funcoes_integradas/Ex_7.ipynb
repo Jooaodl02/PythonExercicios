{
 "cells": [
  {
   "cell_type": "code",
   "execution_count": 2,
   "id": "f1a9e765",
   "metadata": {},
   "outputs": [
    {
     "name": "stdout",
     "output_type": "stream",
     "text": [
      "['João', 'Luis']\n"
     ]
    }
   ],
   "source": [
    "#Exercicio - SELECIONA OS NUMEROS COM MENOS DE 6 LETRAS - LOOP FOR\n",
    "\n",
    "dados = [\"Mariana\", \"João\", \"Juliana\", \"Richard\", \"Luis\"]\n",
    "\n",
    "lista = []\n",
    "\n",
    "for i in range(len(dados)):\n",
    "    if len(dados[i]) < 6:\n",
    "        lista.append(dados[i])\n",
    "print(lista)\n"
   ]
  }
 ],
 "metadata": {
  "kernelspec": {
   "display_name": "Python 3 (ipykernel)",
   "language": "python",
   "name": "python3"
  },
  "language_info": {
   "codemirror_mode": {
    "name": "ipython",
    "version": 3
   },
   "file_extension": ".py",
   "mimetype": "text/x-python",
   "name": "python",
   "nbconvert_exporter": "python",
   "pygments_lexer": "ipython3",
   "version": "3.9.12"
  }
 },
 "nbformat": 4,
 "nbformat_minor": 5
}
