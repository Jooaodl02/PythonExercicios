{
 "cells": [
  {
   "cell_type": "code",
   "execution_count": 1,
   "id": "5d032c81",
   "metadata": {},
   "outputs": [
    {
     "name": "stdout",
     "output_type": "stream",
     "text": [
      "Insira nota do laboratorio: 6\n",
      "Insira nota da atividade semestral: 5\n",
      "Insira nota do exame final: 4\n",
      "4.7\n",
      "Você está de recuperação\n"
     ]
    }
   ],
   "source": [
    "#EXERCICIO 14 - correto\n",
    "\n",
    "laboratorio = float(input(\"Insira nota do laboratorio: \"))\n",
    "atividade_sem = float(input(\"Insira nota da atividade semestral: \"))\n",
    "exame_final = float(input(\"Insira nota do exame final: \"))\n",
    "\n",
    "media_final = ((2*laboratorio)+(3*atividade_sem)+(exame_final*5))/10\n",
    "\n",
    "print (media_final)\n",
    "\n",
    "if media_final < 2.9:\n",
    "    print(\"Você está reprovado\")\n",
    "if 3 < media_final < 4.9:\n",
    "    print(\"Você está de recuperação\")\n",
    "else:\n",
    "    print(\"Você foi aprovado\")"
   ]
  },
  {
   "cell_type": "code",
   "execution_count": null,
   "id": "a77df5e1",
   "metadata": {},
   "outputs": [],
   "source": []
  }
 ],
 "metadata": {
  "kernelspec": {
   "display_name": "Python 3 (ipykernel)",
   "language": "python",
   "name": "python3"
  },
  "language_info": {
   "codemirror_mode": {
    "name": "ipython",
    "version": 3
   },
   "file_extension": ".py",
   "mimetype": "text/x-python",
   "name": "python",
   "nbconvert_exporter": "python",
   "pygments_lexer": "ipython3",
   "version": "3.9.12"
  }
 },
 "nbformat": 4,
 "nbformat_minor": 5
}
