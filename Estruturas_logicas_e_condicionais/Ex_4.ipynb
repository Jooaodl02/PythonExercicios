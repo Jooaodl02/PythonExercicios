{
 "cells": [
  {
   "cell_type": "code",
   "execution_count": 13,
   "id": "d68061df",
   "metadata": {},
   "outputs": [
    {
     "name": "stdout",
     "output_type": "stream",
     "text": [
      "Insira a idade do nadador: 19\n",
      "Nadador esta na categoria: Sênior\n"
     ]
    }
   ],
   "source": [
    "#EXERICIO 27 - correto\n",
    "\n",
    "idade = int(input(\"Insira a idade do nadador: \"))\n",
    "\n",
    "if 5 < idade <= 7:\n",
    "    nadador = 'Infantil A'\n",
    "\n",
    "if 8 < idade <= 10:\n",
    "    nadador = 'Infantil B'\n",
    "\n",
    "if 11 < idade <= 13:\n",
    "    nadador = 'Juvenil A'\n",
    "\n",
    "if 14 < idade <= 17:\n",
    "    nadador = 'Juvenil B'\n",
    "\n",
    "if idade >= 18:\n",
    "    nadador = 'Sênior'\n",
    "\n",
    "print(\"Nadador esta na categoria:\",nadador)\n"
   ]
  },
  {
   "cell_type": "code",
   "execution_count": null,
   "id": "3dbc5432",
   "metadata": {},
   "outputs": [],
   "source": []
  }
 ],
 "metadata": {
  "kernelspec": {
   "display_name": "Python 3 (ipykernel)",
   "language": "python",
   "name": "python3"
  },
  "language_info": {
   "codemirror_mode": {
    "name": "ipython",
    "version": 3
   },
   "file_extension": ".py",
   "mimetype": "text/x-python",
   "name": "python",
   "nbconvert_exporter": "python",
   "pygments_lexer": "ipython3",
   "version": "3.9.12"
  }
 },
 "nbformat": 4,
 "nbformat_minor": 5
}
