{
 "cells": [
  {
   "cell_type": "code",
   "execution_count": 1,
   "id": "97a51587",
   "metadata": {},
   "outputs": [
    {
     "name": "stdout",
     "output_type": "stream",
     "text": [
      "Insira o valor do salario: 600\n",
      "Insira o valor da prestação: 250\n",
      "Emprestimo não concedido\n"
     ]
    }
   ],
   "source": [
    "#EXERCICIO 9 - Correto\n",
    "\n",
    "salario = float(input(\"Insira o valor do salario: \"))\n",
    "prestacao = float(input(\"Insira o valor da prestação: \"))\n",
    "\n",
    "parte_salario = salario*0.2\n",
    "\n",
    "if parte_salario<prestacao:\n",
    "    print(\"Emprestimo não concedido\")\n",
    "else:\n",
    "    print(\"Empréstimo concedido\")\n"
   ]
  },
  {
   "cell_type": "code",
   "execution_count": null,
   "id": "e9297ad2",
   "metadata": {},
   "outputs": [],
   "source": []
  }
 ],
 "metadata": {
  "kernelspec": {
   "display_name": "Python 3 (ipykernel)",
   "language": "python",
   "name": "python3"
  },
  "language_info": {
   "codemirror_mode": {
    "name": "ipython",
    "version": 3
   },
   "file_extension": ".py",
   "mimetype": "text/x-python",
   "name": "python",
   "nbconvert_exporter": "python",
   "pygments_lexer": "ipython3",
   "version": "3.9.12"
  }
 },
 "nbformat": 4,
 "nbformat_minor": 5
}
