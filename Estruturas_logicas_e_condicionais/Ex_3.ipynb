{
 "cells": [
  {
   "cell_type": "code",
   "execution_count": 1,
   "id": "28994dc2",
   "metadata": {},
   "outputs": [
    {
     "name": "stdout",
     "output_type": "stream",
     "text": [
      "Insira o comprimento do lado A: 70\n",
      "Insira o comprimento do lado B: 52\n",
      "Insira o comprimento do lado C: 699\n",
      "Não é possivel formar um triangulo\n"
     ]
    }
   ],
   "source": [
    "#EXERCICIO 20 - correto\n",
    "\n",
    "A = float(input(\"Insira o comprimento do lado A: \"))\n",
    "B = float(input(\"Insira o comprimento do lado B: \"))\n",
    "C = float(input(\"Insira o comprimento do lado C: \"))\n",
    "\n",
    "if (A < B + C) and (B < C + A) and (C < B + A):\n",
    "    print(\"É possivel formar um triangulo\")\n",
    "    if A == B and B == C:\n",
    "        print(\"O triangulo descrito é um triangulo equilatero\")\n",
    "    elif A == B or B == C or C == A:\n",
    "        print(\"O trinagulo descrito é um triangulo isoceles\")\n",
    "\n",
    "    else:\n",
    "        print(\"O traingulo descrito é um triangulo escaleno\")\n",
    "else:\n",
    "    print(\"Não é possivel formar um triangulo\")\n"
   ]
  },
  {
   "cell_type": "code",
   "execution_count": null,
   "id": "145ad8e3",
   "metadata": {},
   "outputs": [],
   "source": []
  },
  {
   "cell_type": "code",
   "execution_count": null,
   "id": "80ada32a",
   "metadata": {},
   "outputs": [],
   "source": []
  }
 ],
 "metadata": {
  "kernelspec": {
   "display_name": "Python 3 (ipykernel)",
   "language": "python",
   "name": "python3"
  },
  "language_info": {
   "codemirror_mode": {
    "name": "ipython",
    "version": 3
   },
   "file_extension": ".py",
   "mimetype": "text/x-python",
   "name": "python",
   "nbconvert_exporter": "python",
   "pygments_lexer": "ipython3",
   "version": "3.9.12"
  }
 },
 "nbformat": 4,
 "nbformat_minor": 5
}
